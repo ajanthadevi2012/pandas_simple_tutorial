{
  "metadata": {
    "kernelspec": {
      "name": "python",
      "display_name": "Python (Pyodide)",
      "language": "python"
    },
    "language_info": {
      "codemirror_mode": {
        "name": "python",
        "version": 3
      },
      "file_extension": ".py",
      "mimetype": "text/x-python",
      "name": "python",
      "nbconvert_exporter": "python",
      "pygments_lexer": "ipython3",
      "version": "3.8"
    }
  },
  "nbformat_minor": 4,
  "nbformat": 4,
  "cells": [
    {
      "cell_type": "markdown",
      "source": "# Pandas puzzles\n",
      "metadata": {}
    },
    {
      "cell_type": "markdown",
      "source": "## Importing pandas\n\n### Getting started and checking your pandas setup\n\nDifficulty: *easy* \n\n**1.** Import pandas under the alias `pd`.",
      "metadata": {}
    },
    {
      "cell_type": "code",
      "source": "import pandas as pd",
      "metadata": {
        "trusted": true
      },
      "execution_count": 1,
      "outputs": []
    },
    {
      "cell_type": "markdown",
      "source": "**2.** Print the version of pandas that has been imported.",
      "metadata": {}
    },
    {
      "cell_type": "code",
      "source": "pd.__version__",
      "metadata": {
        "trusted": true
      },
      "execution_count": 2,
      "outputs": [
        {
          "execution_count": 2,
          "output_type": "execute_result",
          "data": {
            "text/plain": "'1.5.3'"
          },
          "metadata": {}
        }
      ]
    },
    {
      "cell_type": "markdown",
      "source": "**3.** Print out all the version information of the libraries that are required by the pandas library.",
      "metadata": {}
    },
    {
      "cell_type": "code",
      "source": "pd.show_versions()",
      "metadata": {
        "trusted": true
      },
      "execution_count": 3,
      "outputs": [
        {
          "name": "stdout",
          "text": "\nINSTALLED VERSIONS\n------------------\ncommit           : 2e218d10984e9919f0296931d92ea851c6a6faf5\npython           : 3.11.3.final.0\npython-bits      : 32\nOS               : Emscripten\nOS-release       : 3.1.45\nVersion          : #1\nmachine          : wasm32\nprocessor        : \nbyteorder        : little\nLC_ALL           : None\nLANG             : en_GB.UTF-8\nLOCALE           : en_GB.UTF-8\n\npandas           : 1.5.3\nnumpy            : 1.25.2\npytz             : 2023.3\ndateutil         : 2.8.2\nsetuptools       : None\npip              : None\nCython           : None\npytest           : None\nhypothesis       : None\nsphinx           : None\nblosc            : None\nfeather          : None\nxlsxwriter       : None\nlxml.etree       : None\nhtml5lib         : None\npymysql          : None\npsycopg2         : None\njinja2           : None\nIPython          : 8.16.1\npandas_datareader: None\nbs4              : None\nbottleneck       : None\nbrotli           : None\nfastparquet      : None\nfsspec           : None\ngcsfs            : None\nmatplotlib       : None\nnumba            : None\nnumexpr          : None\nodfpy            : None\nopenpyxl         : None\npandas_gbq       : None\npyarrow          : None\npyreadstat       : None\npyxlsb           : None\ns3fs             : None\nscipy            : None\nsnappy           : None\nsqlalchemy       : None\ntables           : None\ntabulate         : None\nxarray           : None\nxlrd             : None\nxlwt             : None\nzstandard        : None\ntzdata           : None\n",
          "output_type": "stream"
        }
      ]
    },
    {
      "cell_type": "markdown",
      "source": "## DataFrame basics\n\n### A few of the fundamental routines for selecting, sorting, adding and aggregating data in DataFrames\n\nDifficulty: *easy*\n\nNote: remember to import numpy using:\n```python\nimport numpy as np\n```\n\nConsider the following Python dictionary `data` and Python list `labels`:\n\n``` python\ndata = {'animal': ['cat', 'cat', 'snake', 'dog', 'dog', 'cat', 'snake', 'cat', 'dog', 'dog'],\n        'age': [2.5, 3, 0.5, np.nan, 5, 2, 4.5, np.nan, 7, 3],\n        'visits': [1, 3, 2, 3, 2, 3, 1, 1, 2, 1],\n        'priority': ['yes', 'yes', 'no', 'yes', 'no', 'no', 'no', 'yes', 'no', 'no']}\n\nlabels = ['a', 'b', 'c', 'd', 'e', 'f', 'g', 'h', 'i', 'j']\n```\n(This is just some meaningless data I made up with the theme of animals and trips to a vet.)\n\n**4.** Create a DataFrame `df` from this dictionary `data` which has the index `labels`.",
      "metadata": {}
    },
    {
      "cell_type": "code",
      "source": "import numpy as np\n\ndata = {'animal': ['cat', 'cat', 'snake', 'dog', 'dog', 'cat', 'snake', 'cat', 'dog', 'dog'],\n        'age': [2.5, 3, 0.5, np.nan, 5, 2, 4.5, np.nan, 7, 3],\n        'visits': [1, 3, 2, 3, 2, 3, 1, 1, 2, 1],\n        'priority': ['yes', 'yes', 'no', 'yes', 'no', 'no', 'no', 'yes', 'no', 'no']}\n\nlabels = ['a', 'b', 'c', 'd', 'e', 'f', 'g', 'h', 'i', 'j']\n\ndf = pd.DataFrame(data, index=labels)",
      "metadata": {
        "trusted": true
      },
      "execution_count": 4,
      "outputs": []
    },
    {
      "cell_type": "markdown",
      "source": "**5.** Display a summary of the basic information about this DataFrame and its data (*hint: there is a single method that can be called on the DataFrame*).",
      "metadata": {}
    },
    {
      "cell_type": "code",
      "source": "df.info()\n\n# ...or...\n\ndf.describe()",
      "metadata": {
        "trusted": true
      },
      "execution_count": 5,
      "outputs": [
        {
          "name": "stdout",
          "text": "<class 'pandas.core.frame.DataFrame'>\nIndex: 10 entries, a to j\nData columns (total 4 columns):\n #   Column    Non-Null Count  Dtype  \n---  ------    --------------  -----  \n 0   animal    10 non-null     object \n 1   age       8 non-null      float64\n 2   visits    10 non-null     int64  \n 3   priority  10 non-null     object \ndtypes: float64(1), int64(1), object(2)\nmemory usage: 280.0+ bytes\n",
          "output_type": "stream"
        },
        {
          "execution_count": 5,
          "output_type": "execute_result",
          "data": {
            "text/plain": "            age     visits\ncount  8.000000  10.000000\nmean   3.437500   1.900000\nstd    2.007797   0.875595\nmin    0.500000   1.000000\n25%    2.375000   1.000000\n50%    3.000000   2.000000\n75%    4.625000   2.750000\nmax    7.000000   3.000000",
            "text/html": "<div>\n<style scoped>\n    .dataframe tbody tr th:only-of-type {\n        vertical-align: middle;\n    }\n\n    .dataframe tbody tr th {\n        vertical-align: top;\n    }\n\n    .dataframe thead th {\n        text-align: right;\n    }\n</style>\n<table border=\"1\" class=\"dataframe\">\n  <thead>\n    <tr style=\"text-align: right;\">\n      <th></th>\n      <th>age</th>\n      <th>visits</th>\n    </tr>\n  </thead>\n  <tbody>\n    <tr>\n      <th>count</th>\n      <td>8.000000</td>\n      <td>10.000000</td>\n    </tr>\n    <tr>\n      <th>mean</th>\n      <td>3.437500</td>\n      <td>1.900000</td>\n    </tr>\n    <tr>\n      <th>std</th>\n      <td>2.007797</td>\n      <td>0.875595</td>\n    </tr>\n    <tr>\n      <th>min</th>\n      <td>0.500000</td>\n      <td>1.000000</td>\n    </tr>\n    <tr>\n      <th>25%</th>\n      <td>2.375000</td>\n      <td>1.000000</td>\n    </tr>\n    <tr>\n      <th>50%</th>\n      <td>3.000000</td>\n      <td>2.000000</td>\n    </tr>\n    <tr>\n      <th>75%</th>\n      <td>4.625000</td>\n      <td>2.750000</td>\n    </tr>\n    <tr>\n      <th>max</th>\n      <td>7.000000</td>\n      <td>3.000000</td>\n    </tr>\n  </tbody>\n</table>\n</div>"
          },
          "metadata": {}
        }
      ]
    },
    {
      "cell_type": "markdown",
      "source": "**6.** Return the first 3 rows of the DataFrame `df`.",
      "metadata": {}
    },
    {
      "cell_type": "code",
      "source": "df.iloc[:3]\n\n# or equivalently\n\ndf.head(3)",
      "metadata": {
        "trusted": true
      },
      "execution_count": 6,
      "outputs": [
        {
          "execution_count": 6,
          "output_type": "execute_result",
          "data": {
            "text/plain": "  animal  age  visits priority\na    cat  2.5       1      yes\nb    cat  3.0       3      yes\nc  snake  0.5       2       no",
            "text/html": "<div>\n<style scoped>\n    .dataframe tbody tr th:only-of-type {\n        vertical-align: middle;\n    }\n\n    .dataframe tbody tr th {\n        vertical-align: top;\n    }\n\n    .dataframe thead th {\n        text-align: right;\n    }\n</style>\n<table border=\"1\" class=\"dataframe\">\n  <thead>\n    <tr style=\"text-align: right;\">\n      <th></th>\n      <th>animal</th>\n      <th>age</th>\n      <th>visits</th>\n      <th>priority</th>\n    </tr>\n  </thead>\n  <tbody>\n    <tr>\n      <th>a</th>\n      <td>cat</td>\n      <td>2.5</td>\n      <td>1</td>\n      <td>yes</td>\n    </tr>\n    <tr>\n      <th>b</th>\n      <td>cat</td>\n      <td>3.0</td>\n      <td>3</td>\n      <td>yes</td>\n    </tr>\n    <tr>\n      <th>c</th>\n      <td>snake</td>\n      <td>0.5</td>\n      <td>2</td>\n      <td>no</td>\n    </tr>\n  </tbody>\n</table>\n</div>"
          },
          "metadata": {}
        }
      ]
    },
    {
      "cell_type": "markdown",
      "source": "**7.** Select just the 'animal' and 'age' columns from the DataFrame `df`.",
      "metadata": {}
    },
    {
      "cell_type": "code",
      "source": "df.loc[:, ['animal', 'age']]\n\n# or\n\ndf[['animal', 'age']]",
      "metadata": {
        "trusted": true
      },
      "execution_count": 7,
      "outputs": [
        {
          "execution_count": 7,
          "output_type": "execute_result",
          "data": {
            "text/plain": "  animal  age\na    cat  2.5\nb    cat  3.0\nc  snake  0.5\nd    dog  NaN\ne    dog  5.0\nf    cat  2.0\ng  snake  4.5\nh    cat  NaN\ni    dog  7.0\nj    dog  3.0",
            "text/html": "<div>\n<style scoped>\n    .dataframe tbody tr th:only-of-type {\n        vertical-align: middle;\n    }\n\n    .dataframe tbody tr th {\n        vertical-align: top;\n    }\n\n    .dataframe thead th {\n        text-align: right;\n    }\n</style>\n<table border=\"1\" class=\"dataframe\">\n  <thead>\n    <tr style=\"text-align: right;\">\n      <th></th>\n      <th>animal</th>\n      <th>age</th>\n    </tr>\n  </thead>\n  <tbody>\n    <tr>\n      <th>a</th>\n      <td>cat</td>\n      <td>2.5</td>\n    </tr>\n    <tr>\n      <th>b</th>\n      <td>cat</td>\n      <td>3.0</td>\n    </tr>\n    <tr>\n      <th>c</th>\n      <td>snake</td>\n      <td>0.5</td>\n    </tr>\n    <tr>\n      <th>d</th>\n      <td>dog</td>\n      <td>NaN</td>\n    </tr>\n    <tr>\n      <th>e</th>\n      <td>dog</td>\n      <td>5.0</td>\n    </tr>\n    <tr>\n      <th>f</th>\n      <td>cat</td>\n      <td>2.0</td>\n    </tr>\n    <tr>\n      <th>g</th>\n      <td>snake</td>\n      <td>4.5</td>\n    </tr>\n    <tr>\n      <th>h</th>\n      <td>cat</td>\n      <td>NaN</td>\n    </tr>\n    <tr>\n      <th>i</th>\n      <td>dog</td>\n      <td>7.0</td>\n    </tr>\n    <tr>\n      <th>j</th>\n      <td>dog</td>\n      <td>3.0</td>\n    </tr>\n  </tbody>\n</table>\n</div>"
          },
          "metadata": {}
        }
      ]
    },
    {
      "cell_type": "markdown",
      "source": "**8.** Select the data in rows `[3, 4, 8]` *and* in columns `['animal', 'age']`.",
      "metadata": {}
    },
    {
      "cell_type": "code",
      "source": "df.loc[df.index[[3, 4, 8]], ['animal', 'age']]",
      "metadata": {
        "trusted": true
      },
      "execution_count": 8,
      "outputs": [
        {
          "execution_count": 8,
          "output_type": "execute_result",
          "data": {
            "text/plain": "  animal  age\nd    dog  NaN\ne    dog  5.0\ni    dog  7.0",
            "text/html": "<div>\n<style scoped>\n    .dataframe tbody tr th:only-of-type {\n        vertical-align: middle;\n    }\n\n    .dataframe tbody tr th {\n        vertical-align: top;\n    }\n\n    .dataframe thead th {\n        text-align: right;\n    }\n</style>\n<table border=\"1\" class=\"dataframe\">\n  <thead>\n    <tr style=\"text-align: right;\">\n      <th></th>\n      <th>animal</th>\n      <th>age</th>\n    </tr>\n  </thead>\n  <tbody>\n    <tr>\n      <th>d</th>\n      <td>dog</td>\n      <td>NaN</td>\n    </tr>\n    <tr>\n      <th>e</th>\n      <td>dog</td>\n      <td>5.0</td>\n    </tr>\n    <tr>\n      <th>i</th>\n      <td>dog</td>\n      <td>7.0</td>\n    </tr>\n  </tbody>\n</table>\n</div>"
          },
          "metadata": {}
        }
      ]
    },
    {
      "cell_type": "markdown",
      "source": "**9.** Select only the rows where the number of visits is greater than 3.",
      "metadata": {}
    },
    {
      "cell_type": "code",
      "source": "df[df['visits'] > 3]",
      "metadata": {
        "trusted": true
      },
      "execution_count": 9,
      "outputs": [
        {
          "execution_count": 9,
          "output_type": "execute_result",
          "data": {
            "text/plain": "Empty DataFrame\nColumns: [animal, age, visits, priority]\nIndex: []",
            "text/html": "<div>\n<style scoped>\n    .dataframe tbody tr th:only-of-type {\n        vertical-align: middle;\n    }\n\n    .dataframe tbody tr th {\n        vertical-align: top;\n    }\n\n    .dataframe thead th {\n        text-align: right;\n    }\n</style>\n<table border=\"1\" class=\"dataframe\">\n  <thead>\n    <tr style=\"text-align: right;\">\n      <th></th>\n      <th>animal</th>\n      <th>age</th>\n      <th>visits</th>\n      <th>priority</th>\n    </tr>\n  </thead>\n  <tbody>\n  </tbody>\n</table>\n</div>"
          },
          "metadata": {}
        }
      ]
    },
    {
      "cell_type": "markdown",
      "source": "**10.** Select the rows where the age is missing, i.e. it is `NaN`.",
      "metadata": {}
    },
    {
      "cell_type": "code",
      "source": "df[df['age'].isnull()]",
      "metadata": {
        "trusted": true
      },
      "execution_count": 10,
      "outputs": [
        {
          "execution_count": 10,
          "output_type": "execute_result",
          "data": {
            "text/plain": "  animal  age  visits priority\nd    dog  NaN       3      yes\nh    cat  NaN       1      yes",
            "text/html": "<div>\n<style scoped>\n    .dataframe tbody tr th:only-of-type {\n        vertical-align: middle;\n    }\n\n    .dataframe tbody tr th {\n        vertical-align: top;\n    }\n\n    .dataframe thead th {\n        text-align: right;\n    }\n</style>\n<table border=\"1\" class=\"dataframe\">\n  <thead>\n    <tr style=\"text-align: right;\">\n      <th></th>\n      <th>animal</th>\n      <th>age</th>\n      <th>visits</th>\n      <th>priority</th>\n    </tr>\n  </thead>\n  <tbody>\n    <tr>\n      <th>d</th>\n      <td>dog</td>\n      <td>NaN</td>\n      <td>3</td>\n      <td>yes</td>\n    </tr>\n    <tr>\n      <th>h</th>\n      <td>cat</td>\n      <td>NaN</td>\n      <td>1</td>\n      <td>yes</td>\n    </tr>\n  </tbody>\n</table>\n</div>"
          },
          "metadata": {}
        }
      ]
    },
    {
      "cell_type": "markdown",
      "source": "**11.** Select the rows where the animal is a cat *and* the age is less than 3.",
      "metadata": {}
    },
    {
      "cell_type": "code",
      "source": "df[(df['animal'] == 'cat') & (df['age'] < 3)]",
      "metadata": {
        "trusted": true
      },
      "execution_count": 11,
      "outputs": [
        {
          "execution_count": 11,
          "output_type": "execute_result",
          "data": {
            "text/plain": "  animal  age  visits priority\na    cat  2.5       1      yes\nf    cat  2.0       3       no",
            "text/html": "<div>\n<style scoped>\n    .dataframe tbody tr th:only-of-type {\n        vertical-align: middle;\n    }\n\n    .dataframe tbody tr th {\n        vertical-align: top;\n    }\n\n    .dataframe thead th {\n        text-align: right;\n    }\n</style>\n<table border=\"1\" class=\"dataframe\">\n  <thead>\n    <tr style=\"text-align: right;\">\n      <th></th>\n      <th>animal</th>\n      <th>age</th>\n      <th>visits</th>\n      <th>priority</th>\n    </tr>\n  </thead>\n  <tbody>\n    <tr>\n      <th>a</th>\n      <td>cat</td>\n      <td>2.5</td>\n      <td>1</td>\n      <td>yes</td>\n    </tr>\n    <tr>\n      <th>f</th>\n      <td>cat</td>\n      <td>2.0</td>\n      <td>3</td>\n      <td>no</td>\n    </tr>\n  </tbody>\n</table>\n</div>"
          },
          "metadata": {}
        }
      ]
    },
    {
      "cell_type": "markdown",
      "source": "**12.** Select the rows the age is between 2 and 4 (inclusive).",
      "metadata": {}
    },
    {
      "cell_type": "code",
      "source": "df[df['age'].between(2, 4)]",
      "metadata": {
        "trusted": true
      },
      "execution_count": 12,
      "outputs": [
        {
          "execution_count": 12,
          "output_type": "execute_result",
          "data": {
            "text/plain": "  animal  age  visits priority\na    cat  2.5       1      yes\nb    cat  3.0       3      yes\nf    cat  2.0       3       no\nj    dog  3.0       1       no",
            "text/html": "<div>\n<style scoped>\n    .dataframe tbody tr th:only-of-type {\n        vertical-align: middle;\n    }\n\n    .dataframe tbody tr th {\n        vertical-align: top;\n    }\n\n    .dataframe thead th {\n        text-align: right;\n    }\n</style>\n<table border=\"1\" class=\"dataframe\">\n  <thead>\n    <tr style=\"text-align: right;\">\n      <th></th>\n      <th>animal</th>\n      <th>age</th>\n      <th>visits</th>\n      <th>priority</th>\n    </tr>\n  </thead>\n  <tbody>\n    <tr>\n      <th>a</th>\n      <td>cat</td>\n      <td>2.5</td>\n      <td>1</td>\n      <td>yes</td>\n    </tr>\n    <tr>\n      <th>b</th>\n      <td>cat</td>\n      <td>3.0</td>\n      <td>3</td>\n      <td>yes</td>\n    </tr>\n    <tr>\n      <th>f</th>\n      <td>cat</td>\n      <td>2.0</td>\n      <td>3</td>\n      <td>no</td>\n    </tr>\n    <tr>\n      <th>j</th>\n      <td>dog</td>\n      <td>3.0</td>\n      <td>1</td>\n      <td>no</td>\n    </tr>\n  </tbody>\n</table>\n</div>"
          },
          "metadata": {}
        }
      ]
    },
    {
      "cell_type": "markdown",
      "source": "**13.** Change the age in row 'f' to 1.5.",
      "metadata": {}
    },
    {
      "cell_type": "code",
      "source": "df.loc['f', 'age'] = 1.5",
      "metadata": {
        "trusted": true
      },
      "execution_count": 13,
      "outputs": []
    },
    {
      "cell_type": "markdown",
      "source": "**14.** Calculate the sum of all visits in `df` (i.e. the total number of visits).",
      "metadata": {}
    },
    {
      "cell_type": "code",
      "source": "df['visits'].sum()",
      "metadata": {
        "trusted": true
      },
      "execution_count": 14,
      "outputs": [
        {
          "execution_count": 14,
          "output_type": "execute_result",
          "data": {
            "text/plain": "19"
          },
          "metadata": {}
        }
      ]
    },
    {
      "cell_type": "markdown",
      "source": "**15.** Calculate the mean age for each different animal in `df`.",
      "metadata": {}
    },
    {
      "cell_type": "code",
      "source": "df.groupby('animal')['age'].mean()",
      "metadata": {
        "trusted": true
      },
      "execution_count": 15,
      "outputs": [
        {
          "execution_count": 15,
          "output_type": "execute_result",
          "data": {
            "text/plain": "animal\ncat      2.333333\ndog      5.000000\nsnake    2.500000\nName: age, dtype: float64"
          },
          "metadata": {}
        }
      ]
    },
    {
      "cell_type": "markdown",
      "source": "**16.** Append a new row 'k' to `df` with your choice of values for each column. Then delete that row to return the original DataFrame.",
      "metadata": {}
    },
    {
      "cell_type": "code",
      "source": "df.loc['k'] = [5.5, 'dog', 'no', 2]\n\n# and then deleting the new row...\n\ndf = df.drop('k')",
      "metadata": {
        "trusted": true
      },
      "execution_count": 16,
      "outputs": []
    },
    {
      "cell_type": "markdown",
      "source": "**17.** Count the number of each type of animal in `df`.",
      "metadata": {}
    },
    {
      "cell_type": "code",
      "source": "df['animal'].value_counts()",
      "metadata": {
        "trusted": true
      },
      "execution_count": 17,
      "outputs": [
        {
          "execution_count": 17,
          "output_type": "execute_result",
          "data": {
            "text/plain": "cat      4\ndog      4\nsnake    2\nName: animal, dtype: int64"
          },
          "metadata": {}
        }
      ]
    },
    {
      "cell_type": "markdown",
      "source": "**18.** Sort `df` first by the values in the 'age' in *decending* order, then by the value in the 'visits' column in *ascending* order (so row `i` should be first, and row `d` should be last).",
      "metadata": {}
    },
    {
      "cell_type": "code",
      "source": "df.sort_values(by=['age', 'visits'], ascending=[False, True])",
      "metadata": {
        "trusted": true
      },
      "execution_count": 18,
      "outputs": [
        {
          "execution_count": 18,
          "output_type": "execute_result",
          "data": {
            "text/plain": "  animal  age visits priority\ni    dog  7.0      2       no\ne    dog  5.0      2       no\ng  snake  4.5      1       no\nj    dog  3.0      1       no\nb    cat  3.0      3      yes\na    cat  2.5      1      yes\nf    cat  1.5      3       no\nc  snake  0.5      2       no\nh    cat  NaN      1      yes\nd    dog  NaN      3      yes",
            "text/html": "<div>\n<style scoped>\n    .dataframe tbody tr th:only-of-type {\n        vertical-align: middle;\n    }\n\n    .dataframe tbody tr th {\n        vertical-align: top;\n    }\n\n    .dataframe thead th {\n        text-align: right;\n    }\n</style>\n<table border=\"1\" class=\"dataframe\">\n  <thead>\n    <tr style=\"text-align: right;\">\n      <th></th>\n      <th>animal</th>\n      <th>age</th>\n      <th>visits</th>\n      <th>priority</th>\n    </tr>\n  </thead>\n  <tbody>\n    <tr>\n      <th>i</th>\n      <td>dog</td>\n      <td>7.0</td>\n      <td>2</td>\n      <td>no</td>\n    </tr>\n    <tr>\n      <th>e</th>\n      <td>dog</td>\n      <td>5.0</td>\n      <td>2</td>\n      <td>no</td>\n    </tr>\n    <tr>\n      <th>g</th>\n      <td>snake</td>\n      <td>4.5</td>\n      <td>1</td>\n      <td>no</td>\n    </tr>\n    <tr>\n      <th>j</th>\n      <td>dog</td>\n      <td>3.0</td>\n      <td>1</td>\n      <td>no</td>\n    </tr>\n    <tr>\n      <th>b</th>\n      <td>cat</td>\n      <td>3.0</td>\n      <td>3</td>\n      <td>yes</td>\n    </tr>\n    <tr>\n      <th>a</th>\n      <td>cat</td>\n      <td>2.5</td>\n      <td>1</td>\n      <td>yes</td>\n    </tr>\n    <tr>\n      <th>f</th>\n      <td>cat</td>\n      <td>1.5</td>\n      <td>3</td>\n      <td>no</td>\n    </tr>\n    <tr>\n      <th>c</th>\n      <td>snake</td>\n      <td>0.5</td>\n      <td>2</td>\n      <td>no</td>\n    </tr>\n    <tr>\n      <th>h</th>\n      <td>cat</td>\n      <td>NaN</td>\n      <td>1</td>\n      <td>yes</td>\n    </tr>\n    <tr>\n      <th>d</th>\n      <td>dog</td>\n      <td>NaN</td>\n      <td>3</td>\n      <td>yes</td>\n    </tr>\n  </tbody>\n</table>\n</div>"
          },
          "metadata": {}
        }
      ]
    },
    {
      "cell_type": "markdown",
      "source": "**19.** The 'priority' column contains the values 'yes' and 'no'. Replace this column with a column of boolean values: 'yes' should be `True` and 'no' should be `False`.",
      "metadata": {}
    },
    {
      "cell_type": "code",
      "source": "df['priority'] = df['priority'].map({'yes': True, 'no': False})",
      "metadata": {
        "trusted": true
      },
      "execution_count": 19,
      "outputs": []
    },
    {
      "cell_type": "markdown",
      "source": "**20.** In the 'animal' column, change the 'snake' entries to 'python'.",
      "metadata": {}
    },
    {
      "cell_type": "code",
      "source": "df['animal'] = df['animal'].replace('snake', 'python')",
      "metadata": {
        "trusted": true
      },
      "execution_count": 20,
      "outputs": []
    },
    {
      "cell_type": "markdown",
      "source": "**21.** For each animal type and each number of visits, find the mean age. In other words, each row is an animal, each column is a number of visits and the values are the mean ages (*hint: use a pivot table*).",
      "metadata": {}
    },
    {
      "cell_type": "code",
      "source": "df.pivot_table(index='animal', columns='visits', values='age', aggfunc='mean')",
      "metadata": {
        "trusted": true
      },
      "execution_count": 21,
      "outputs": [
        {
          "execution_count": 21,
          "output_type": "execute_result",
          "data": {
            "text/plain": "visits    1    2     3\nanimal                \ncat     2.5  NaN  2.25\ndog     3.0  6.0   NaN\npython  4.5  0.5   NaN",
            "text/html": "<div>\n<style scoped>\n    .dataframe tbody tr th:only-of-type {\n        vertical-align: middle;\n    }\n\n    .dataframe tbody tr th {\n        vertical-align: top;\n    }\n\n    .dataframe thead th {\n        text-align: right;\n    }\n</style>\n<table border=\"1\" class=\"dataframe\">\n  <thead>\n    <tr style=\"text-align: right;\">\n      <th>visits</th>\n      <th>1</th>\n      <th>2</th>\n      <th>3</th>\n    </tr>\n    <tr>\n      <th>animal</th>\n      <th></th>\n      <th></th>\n      <th></th>\n    </tr>\n  </thead>\n  <tbody>\n    <tr>\n      <th>cat</th>\n      <td>2.5</td>\n      <td>NaN</td>\n      <td>2.25</td>\n    </tr>\n    <tr>\n      <th>dog</th>\n      <td>3.0</td>\n      <td>6.0</td>\n      <td>NaN</td>\n    </tr>\n    <tr>\n      <th>python</th>\n      <td>4.5</td>\n      <td>0.5</td>\n      <td>NaN</td>\n    </tr>\n  </tbody>\n</table>\n</div>"
          },
          "metadata": {}
        }
      ]
    },
    {
      "cell_type": "markdown",
      "source": "## DataFrames: beyond the basics\n\n### Slightly trickier: you may need to combine two or more methods to get the right answer\n\nDifficulty: *medium*\n\nThe previous section was tour through some basic but essential DataFrame operations. Below are some ways that you might need to cut your data, but for which there is no single \"out of the box\" method.",
      "metadata": {}
    },
    {
      "cell_type": "markdown",
      "source": "**22.** You have a DataFrame `df` with a column 'A' of integers. For example:\n```python\ndf = pd.DataFrame({'A': [1, 2, 2, 3, 4, 5, 5, 5, 6, 7, 7]})\n```\n\nHow do you filter out rows which contain the same integer as the row immediately above?\n\nYou should be left with a column containing the following values:\n\n```python\n1, 2, 3, 4, 5, 6, 7\n```",
      "metadata": {}
    },
    {
      "cell_type": "code",
      "source": "df = pd.DataFrame({'A': [1, 2, 2, 3, 4, 5, 5, 5, 6, 7, 7]})\n\ndf.loc[df['A'].shift() != df['A']]\n\n# Alternatively, we could use drop_duplicates() here. Note\n# that this removes *all* duplicates though, so it won't\n# work as desired if A is [1, 1, 2, 2, 1, 1] for example.\n\ndf.drop_duplicates(subset='A')",
      "metadata": {
        "trusted": true
      },
      "execution_count": 22,
      "outputs": [
        {
          "execution_count": 22,
          "output_type": "execute_result",
          "data": {
            "text/plain": "   A\n0  1\n1  2\n3  3\n4  4\n5  5\n8  6\n9  7",
            "text/html": "<div>\n<style scoped>\n    .dataframe tbody tr th:only-of-type {\n        vertical-align: middle;\n    }\n\n    .dataframe tbody tr th {\n        vertical-align: top;\n    }\n\n    .dataframe thead th {\n        text-align: right;\n    }\n</style>\n<table border=\"1\" class=\"dataframe\">\n  <thead>\n    <tr style=\"text-align: right;\">\n      <th></th>\n      <th>A</th>\n    </tr>\n  </thead>\n  <tbody>\n    <tr>\n      <th>0</th>\n      <td>1</td>\n    </tr>\n    <tr>\n      <th>1</th>\n      <td>2</td>\n    </tr>\n    <tr>\n      <th>3</th>\n      <td>3</td>\n    </tr>\n    <tr>\n      <th>4</th>\n      <td>4</td>\n    </tr>\n    <tr>\n      <th>5</th>\n      <td>5</td>\n    </tr>\n    <tr>\n      <th>8</th>\n      <td>6</td>\n    </tr>\n    <tr>\n      <th>9</th>\n      <td>7</td>\n    </tr>\n  </tbody>\n</table>\n</div>"
          },
          "metadata": {}
        }
      ]
    },
    {
      "cell_type": "markdown",
      "source": "**23.** Given a DataFrame of random numeric values:\n```python\ndf = pd.DataFrame(np.random.random(size=(5, 3))) # this is a 5x3 DataFrame of float values\n```\n\nhow do you subtract the row mean from each element in the row?",
      "metadata": {}
    },
    {
      "cell_type": "code",
      "source": "df = pd.DataFrame(np.random.random(size=(5, 3)))\n\ndf.sub(df.mean(axis=1), axis=0)",
      "metadata": {
        "trusted": true
      },
      "execution_count": 23,
      "outputs": [
        {
          "execution_count": 23,
          "output_type": "execute_result",
          "data": {
            "text/plain": "          0         1         2\n0 -0.075047  0.126446 -0.051400\n1 -0.297766  0.120049  0.177717\n2 -0.262157 -0.244040  0.506197\n3  0.386662 -0.281815 -0.104847\n4  0.025960  0.087666 -0.113627",
            "text/html": "<div>\n<style scoped>\n    .dataframe tbody tr th:only-of-type {\n        vertical-align: middle;\n    }\n\n    .dataframe tbody tr th {\n        vertical-align: top;\n    }\n\n    .dataframe thead th {\n        text-align: right;\n    }\n</style>\n<table border=\"1\" class=\"dataframe\">\n  <thead>\n    <tr style=\"text-align: right;\">\n      <th></th>\n      <th>0</th>\n      <th>1</th>\n      <th>2</th>\n    </tr>\n  </thead>\n  <tbody>\n    <tr>\n      <th>0</th>\n      <td>-0.075047</td>\n      <td>0.126446</td>\n      <td>-0.051400</td>\n    </tr>\n    <tr>\n      <th>1</th>\n      <td>-0.297766</td>\n      <td>0.120049</td>\n      <td>0.177717</td>\n    </tr>\n    <tr>\n      <th>2</th>\n      <td>-0.262157</td>\n      <td>-0.244040</td>\n      <td>0.506197</td>\n    </tr>\n    <tr>\n      <th>3</th>\n      <td>0.386662</td>\n      <td>-0.281815</td>\n      <td>-0.104847</td>\n    </tr>\n    <tr>\n      <th>4</th>\n      <td>0.025960</td>\n      <td>0.087666</td>\n      <td>-0.113627</td>\n    </tr>\n  </tbody>\n</table>\n</div>"
          },
          "metadata": {}
        }
      ]
    },
    {
      "cell_type": "markdown",
      "source": "**24.** Suppose you have DataFrame with 10 columns of real numbers, for example:\n\n```python\ndf = pd.DataFrame(np.random.random(size=(5, 10)), columns=list('abcdefghij'))\n```\nWhich column of numbers has the smallest sum? Return that column's label.",
      "metadata": {}
    },
    {
      "cell_type": "code",
      "source": "df = pd.DataFrame(np.random.random(size=(5, 10)), columns=list('abcdefghij'))\n\ndf.sum().idxmin()",
      "metadata": {
        "trusted": true
      },
      "execution_count": 24,
      "outputs": [
        {
          "execution_count": 24,
          "output_type": "execute_result",
          "data": {
            "text/plain": "'b'"
          },
          "metadata": {}
        }
      ]
    },
    {
      "cell_type": "markdown",
      "source": "**25.** How do you count how many unique rows a DataFrame has (i.e. ignore all rows that are duplicates)?",
      "metadata": {}
    },
    {
      "cell_type": "code",
      "source": "df = pd.DataFrame(np.random.randint(0, 2, size=(10, 3)))\n\nlen(df) - df.duplicated(keep=False).sum()\n\n# or perhaps more simply...\n\nlen(df.drop_duplicates(keep=False))",
      "metadata": {
        "trusted": true
      },
      "execution_count": 25,
      "outputs": [
        {
          "execution_count": 25,
          "output_type": "execute_result",
          "data": {
            "text/plain": "4"
          },
          "metadata": {}
        }
      ]
    },
    {
      "cell_type": "markdown",
      "source": "The next three puzzles are slightly harder.\n\n**26.** In the cell below, you have a DataFrame `df` that consists of 10 columns of floating-point numbers. Exactly 5 entries in each row are NaN values. \n\nFor each row of the DataFrame, find the *column* which contains the *third* NaN value.\n\nYou should return a Series of column labels: `e, c, d, h, d`",
      "metadata": {}
    },
    {
      "cell_type": "code",
      "source": "nan = np.nan\n\ndata = [[0.04,  nan,  nan, 0.25,  nan, 0.43, 0.71, 0.51,  nan,  nan],\n        [ nan,  nan,  nan, 0.04, 0.76,  nan,  nan, 0.67, 0.76, 0.16],\n        [ nan,  nan, 0.5 ,  nan, 0.31, 0.4 ,  nan,  nan, 0.24, 0.01],\n        [0.49,  nan,  nan, 0.62, 0.73, 0.26, 0.85,  nan,  nan,  nan],\n        [ nan,  nan, 0.41,  nan, 0.05,  nan, 0.61,  nan, 0.48, 0.68]]\n\ncolumns = list('abcdefghij')\n\ndf = pd.DataFrame(data, columns=columns)\n\n\n(df.isnull().cumsum(axis=1) == 3).idxmax(axis=1)",
      "metadata": {
        "trusted": true
      },
      "execution_count": 26,
      "outputs": [
        {
          "execution_count": 26,
          "output_type": "execute_result",
          "data": {
            "text/plain": "0    e\n1    c\n2    d\n3    h\n4    d\ndtype: object"
          },
          "metadata": {}
        }
      ]
    },
    {
      "cell_type": "markdown",
      "source": "**27.** A DataFrame has a column of groups 'grps' and and column of integer values 'vals': \n\n```python\ndf = pd.DataFrame({'grps': list('aaabbcaabcccbbc'), \n                   'vals': [12,345,3,1,45,14,4,52,54,23,235,21,57,3,87]})\n```\nFor each *group*, find the sum of the three greatest values.  You should end up with the answer as follows:\n```\ngrps\na    409\nb    156\nc    345\n```",
      "metadata": {}
    },
    {
      "cell_type": "code",
      "source": "df = pd.DataFrame({'grps': list('aaabbcaabcccbbc'), \n                   'vals': [12,345,3,1,45,14,4,52,54,23,235,21,57,3,87]})\n\ndf.groupby('grps')['vals'].nlargest(3).sum(level=0)",
      "metadata": {
        "trusted": true
      },
      "execution_count": 27,
      "outputs": [
        {
          "name": "stderr",
          "text": "<ipython-input-27-5851203b2460>:4: FutureWarning: Using the level keyword in DataFrame and Series aggregations is deprecated and will be removed in a future version. Use groupby instead. df.sum(level=1) should use df.groupby(level=1).sum().\n  df.groupby('grps')['vals'].nlargest(3).sum(level=0)\n",
          "output_type": "stream"
        },
        {
          "execution_count": 27,
          "output_type": "execute_result",
          "data": {
            "text/plain": "grps\na    409\nb    156\nc    345\nName: vals, dtype: int64"
          },
          "metadata": {}
        }
      ]
    },
    {
      "cell_type": "markdown",
      "source": "**28.** The DataFrame `df` constructed below has two integer columns 'A' and 'B'. The values in 'A' are between 1 and 100 (inclusive). \n\nFor each group of 10 consecutive integers in 'A' (i.e. `(0, 10]`, `(10, 20]`, ...), calculate the sum of the corresponding values in column 'B'.\n\nThe answer should be a Series as follows:\n\n```\nA\n(0, 10]      635\n(10, 20]     360\n(20, 30]     315\n(30, 40]     306\n(40, 50]     750\n(50, 60]     284\n(60, 70]     424\n(70, 80]     526\n(80, 90]     835\n(90, 100]    852\n```",
      "metadata": {}
    },
    {
      "cell_type": "code",
      "source": "df = pd.DataFrame(np.random.RandomState(8765).randint(1, 101, size=(100, 2)), columns = [\"A\", \"B\"])\n\ndf.groupby(pd.cut(df['A'], np.arange(0, 101, 10)))['B'].sum()",
      "metadata": {
        "trusted": true
      },
      "execution_count": 28,
      "outputs": [
        {
          "execution_count": 28,
          "output_type": "execute_result",
          "data": {
            "text/plain": "A\n(0, 10]      635\n(10, 20]     360\n(20, 30]     315\n(30, 40]     306\n(40, 50]     750\n(50, 60]     284\n(60, 70]     424\n(70, 80]     526\n(80, 90]     835\n(90, 100]    852\nName: B, dtype: int32"
          },
          "metadata": {}
        }
      ]
    },
    {
      "cell_type": "markdown",
      "source": "## DataFrames: harder problems \n\n### These might require a bit of thinking outside the box...\n\n...but all are solvable using just the usual pandas/NumPy methods (and so avoid using explicit `for` loops).\n\nDifficulty: *hard*",
      "metadata": {}
    },
    {
      "cell_type": "markdown",
      "source": "**29.** Consider a DataFrame `df` where there is an integer column 'X':\n```python\ndf = pd.DataFrame({'X': [7, 2, 0, 3, 4, 2, 5, 0, 3, 4]})\n```\nFor each value, count the difference back to the previous zero (or the start of the Series, whichever is closer). These values should therefore be \n\n```\n[1, 2, 0, 1, 2, 3, 4, 0, 1, 2]\n```\n\nMake this a new column 'Y'.",
      "metadata": {}
    },
    {
      "cell_type": "code",
      "source": "df = pd.DataFrame({'X': [7, 2, 0, 3, 4, 2, 5, 0, 3, 4]})\n\nizero = np.r_[-1, (df == 0).values.nonzero()[0]]  # indices of zeros\nidx = np.arange(len(df))\ny = df['X'] != 0\ndf['Y'] = idx - izero[np.searchsorted(izero - 1, idx) - 1]\n\n# http://stackoverflow.com/questions/30730981/how-to-count-distance-to-the-previous-zero-in-pandas-series/\n# credit: Behzad Nouri",
      "metadata": {
        "trusted": true
      },
      "execution_count": 29,
      "outputs": []
    },
    {
      "cell_type": "markdown",
      "source": "Here's an alternative approach based on a [cookbook recipe](http://pandas.pydata.org/pandas-docs/stable/cookbook.html#grouping):",
      "metadata": {}
    },
    {
      "cell_type": "code",
      "source": "df = pd.DataFrame({'X': [7, 2, 0, 3, 4, 2, 5, 0, 3, 4]})\n\nx = (df['X'] != 0).cumsum()\ny = x != x.shift()\ndf['Y'] = y.groupby((y != y.shift()).cumsum()).cumsum()",
      "metadata": {
        "trusted": true
      },
      "execution_count": 30,
      "outputs": []
    },
    {
      "cell_type": "markdown",
      "source": "And another approach using a groupby operation:",
      "metadata": {}
    },
    {
      "cell_type": "code",
      "source": "df = pd.DataFrame({'X': [7, 2, 0, 3, 4, 2, 5, 0, 3, 4]})\n\ndf['Y'] = df.groupby((df['X'] == 0).cumsum()).cumcount()\n\n# We're off by one before we reach the first zero.\nfirst_zero_idx = (df['X'] == 0).idxmax()\ndf['Y'].iloc[0:first_zero_idx] += 1",
      "metadata": {
        "trusted": true
      },
      "execution_count": 31,
      "outputs": []
    },
    {
      "cell_type": "markdown",
      "source": "**30.** Consider the DataFrame constructed below which contains rows and columns of numerical data. \n\nCreate a list of the column-row index locations of the 3 largest values in this DataFrame. In this case, the answer should be:\n```\n[(5, 7), (6, 4), (2, 5)]\n```",
      "metadata": {}
    },
    {
      "cell_type": "code",
      "source": "df = pd.DataFrame(np.random.RandomState(30).randint(1, 101, size=(8, 8)))\n\ndf.unstack().sort_values()[-3:].index.tolist()\n\n# http://stackoverflow.com/questions/14941261/index-and-column-for-the-max-value-in-pandas-dataframe/\n# credit: DSM",
      "metadata": {
        "trusted": true
      },
      "execution_count": 32,
      "outputs": [
        {
          "execution_count": 32,
          "output_type": "execute_result",
          "data": {
            "text/plain": "[(5, 7), (6, 4), (2, 5)]"
          },
          "metadata": {}
        }
      ]
    },
    {
      "cell_type": "markdown",
      "source": "**31.** You are given the DataFrame below with a column of group IDs, 'grps', and a column of corresponding integer values, 'vals'.\n\n```python\ndf = pd.DataFrame({\"vals\": np.random.RandomState(31).randint(-30, 30, size=15), \n                   \"grps\": np.random.RandomState(31).choice([\"A\", \"B\"], 15)})\n```\n\nCreate a new column 'patched_values' which contains the same values as the 'vals' any negative values in 'vals' with the group mean:\n\n```\n    vals grps  patched_vals\n0    -12    A          13.6\n1     -7    B          28.0\n2    -14    A          13.6\n3      4    A           4.0\n4     -7    A          13.6\n5     28    B          28.0\n6     -2    A          13.6\n7     -1    A          13.6\n8      8    A           8.0\n9     -2    B          28.0\n10    28    A          28.0\n11    12    A          12.0\n12    16    A          16.0\n13   -24    A          13.6\n14   -12    A          13.6\n```",
      "metadata": {}
    },
    {
      "cell_type": "code",
      "source": "df = pd.DataFrame({\"vals\": np.random.RandomState(31).randint(-30, 30, size=15), \n                   \"grps\": np.random.RandomState(31).choice([\"A\", \"B\"], 15)})\n\ndef replace(group):\n    mask = group<0\n    group[mask] = group[~mask].mean()\n    return group\n\ndf.groupby(['grps'])['vals'].transform(replace)\n\n# http://stackoverflow.com/questions/14760757/replacing-values-with-groupby-means/\n# credit: unutbu",
      "metadata": {
        "trusted": true
      },
      "execution_count": 33,
      "outputs": [
        {
          "execution_count": 33,
          "output_type": "execute_result",
          "data": {
            "text/plain": "0     13.6\n1     28.0\n2     13.6\n3      4.0\n4     13.6\n5     28.0\n6     13.6\n7     13.6\n8      8.0\n9     28.0\n10    28.0\n11    12.0\n12    16.0\n13    13.6\n14    13.6\nName: vals, dtype: float64"
          },
          "metadata": {}
        }
      ]
    },
    {
      "cell_type": "markdown",
      "source": "**32.** Implement a rolling mean over groups with window size 3, which ignores NaN value. For example consider the following DataFrame:\n\n```python\n>>> df = pd.DataFrame({'group': list('aabbabbbabab'),\n                       'value': [1, 2, 3, np.nan, 2, 3, np.nan, 1, 7, 3, np.nan, 8]})\n>>> df\n   group  value\n0      a    1.0\n1      a    2.0\n2      b    3.0\n3      b    NaN\n4      a    2.0\n5      b    3.0\n6      b    NaN\n7      b    1.0\n8      a    7.0\n9      b    3.0\n10     a    NaN\n11     b    8.0\n```\nThe goal is to compute the Series:\n\n```\n0     1.000000\n1     1.500000\n2     3.000000\n3     3.000000\n4     1.666667\n5     3.000000\n6     3.000000\n7     2.000000\n8     3.666667\n9     2.000000\n10    4.500000\n11    4.000000\n```\nE.g. the first window of size three for group 'b' has values 3.0, NaN and 3.0 and occurs at row index 5. Instead of being NaN the value in the new column at this row index should be 3.0 (just the two non-NaN values are used to compute the mean (3+3)/2)",
      "metadata": {}
    },
    {
      "cell_type": "code",
      "source": "df = pd.DataFrame({'group': list('aabbabbbabab'),\n                   'value': [1, 2, 3, np.nan, 2, 3, np.nan, 1, 7, 3, np.nan, 8]})\n\ng1 = df.groupby(['group'])['value']              # group values  \ng2 = df.fillna(0).groupby(['group'])['value']    # fillna, then group values\n\ns = g2.rolling(3, min_periods=1).sum() / g1.rolling(3, min_periods=1).count() # compute means\n\ns.reset_index(level=0, drop=True).sort_index()  # drop/sort index\n\n# http://stackoverflow.com/questions/36988123/pandas-groupby-and-rolling-apply-ignoring-nans/",
      "metadata": {
        "trusted": true
      },
      "execution_count": 34,
      "outputs": [
        {
          "execution_count": 34,
          "output_type": "execute_result",
          "data": {
            "text/plain": "0     1.000000\n1     1.500000\n2     3.000000\n3     3.000000\n4     1.666667\n5     3.000000\n6     3.000000\n7     2.000000\n8     3.666667\n9     2.000000\n10    4.500000\n11    4.000000\nName: value, dtype: float64"
          },
          "metadata": {}
        }
      ]
    },
    {
      "cell_type": "markdown",
      "source": "## Series and DatetimeIndex\n\n### Exercises for creating and manipulating Series with datetime data\n\nDifficulty: *easy/medium*\n\npandas is fantastic for working with dates and times. These puzzles explore some of this functionality.\n",
      "metadata": {}
    },
    {
      "cell_type": "markdown",
      "source": "**33.** Create a DatetimeIndex that contains each business day of 2015 and use it to index a Series of random numbers. Let's call this Series `s`.",
      "metadata": {}
    },
    {
      "cell_type": "code",
      "source": "dti = pd.date_range(start='2015-01-01', end='2015-12-31', freq='B') \ns = pd.Series(np.random.rand(len(dti)), index=dti)\ns",
      "metadata": {
        "trusted": true
      },
      "execution_count": 35,
      "outputs": [
        {
          "execution_count": 35,
          "output_type": "execute_result",
          "data": {
            "text/plain": "2015-01-01    0.018556\n2015-01-02    0.680298\n2015-01-05    0.925304\n2015-01-06    0.549147\n2015-01-07    0.868953\n                ...   \n2015-12-25    0.916820\n2015-12-28    0.785481\n2015-12-29    0.472320\n2015-12-30    0.313430\n2015-12-31    0.615971\nFreq: B, Length: 261, dtype: float64"
          },
          "metadata": {}
        }
      ]
    },
    {
      "cell_type": "markdown",
      "source": "**34.** Find the sum of the values in `s` for every Wednesday.",
      "metadata": {}
    },
    {
      "cell_type": "code",
      "source": "s[s.index.weekday == 2].sum() ",
      "metadata": {
        "trusted": true
      },
      "execution_count": 36,
      "outputs": [
        {
          "execution_count": 36,
          "output_type": "execute_result",
          "data": {
            "text/plain": "26.47895362238054"
          },
          "metadata": {}
        }
      ]
    },
    {
      "cell_type": "markdown",
      "source": "**35.** For each calendar month in `s`, find the mean of values.",
      "metadata": {}
    },
    {
      "cell_type": "code",
      "source": "s.resample('M').mean()",
      "metadata": {
        "trusted": true
      },
      "execution_count": 37,
      "outputs": [
        {
          "execution_count": 37,
          "output_type": "execute_result",
          "data": {
            "text/plain": "2015-01-31    0.553956\n2015-02-28    0.541103\n2015-03-31    0.527138\n2015-04-30    0.512442\n2015-05-31    0.406080\n2015-06-30    0.472661\n2015-07-31    0.476615\n2015-08-31    0.525079\n2015-09-30    0.440685\n2015-10-31    0.595265\n2015-11-30    0.425409\n2015-12-31    0.509169\nFreq: M, dtype: float64"
          },
          "metadata": {}
        }
      ]
    },
    {
      "cell_type": "markdown",
      "source": "**36.** For each group of four consecutive calendar months in `s`, find the date on which the highest value occurred.",
      "metadata": {}
    },
    {
      "cell_type": "code",
      "source": "s.groupby(pd.Grouper(freq='4M')).idxmax()",
      "metadata": {
        "trusted": true
      },
      "execution_count": 38,
      "outputs": [
        {
          "execution_count": 38,
          "output_type": "execute_result",
          "data": {
            "text/plain": "2015-01-31   2015-01-29\n2015-05-31   2015-05-27\n2015-09-30   2015-08-04\n2016-01-31   2015-10-12\nFreq: 4M, dtype: datetime64[ns]"
          },
          "metadata": {}
        }
      ]
    },
    {
      "cell_type": "markdown",
      "source": "**37.** Create a DateTimeIndex consisting of the third Thursday in each month for the years 2015 and 2016.",
      "metadata": {}
    },
    {
      "cell_type": "code",
      "source": "pd.date_range('2015-01-01', '2016-12-31', freq='WOM-3THU')",
      "metadata": {
        "trusted": true
      },
      "execution_count": 39,
      "outputs": [
        {
          "execution_count": 39,
          "output_type": "execute_result",
          "data": {
            "text/plain": "DatetimeIndex(['2015-01-15', '2015-02-19', '2015-03-19', '2015-04-16',\n               '2015-05-21', '2015-06-18', '2015-07-16', '2015-08-20',\n               '2015-09-17', '2015-10-15', '2015-11-19', '2015-12-17',\n               '2016-01-21', '2016-02-18', '2016-03-17', '2016-04-21',\n               '2016-05-19', '2016-06-16', '2016-07-21', '2016-08-18',\n               '2016-09-15', '2016-10-20', '2016-11-17', '2016-12-15'],\n              dtype='datetime64[ns]', freq='WOM-3THU')"
          },
          "metadata": {}
        }
      ]
    }
  ]
}